{
 "cells": [
  {
   "cell_type": "markdown",
   "metadata": {},
   "source": [
    "This notebook was used to generate a train set which incorporates all training samples from NLST, and 30% of the UIC samples. Then, the remaining 70% of the UIC samples are used to generate a test set.\n",
    "This operation is performed on datasets with 7 features plus Sybil score."
   ]
  },
  {
   "cell_type": "code",
   "execution_count": 128,
   "metadata": {},
   "outputs": [],
   "source": [
    "import pandas as pd\n",
    "import numpy as np\n",
    "from sklearn.model_selection import train_test_split"
   ]
  },
  {
   "cell_type": "markdown",
   "metadata": {},
   "source": [
    "# Create data sets"
   ]
  },
  {
   "cell_type": "code",
   "execution_count": 129,
   "metadata": {},
   "outputs": [],
   "source": [
    "TRAIN_FILE_NLST = (\n",
    "    'C:/' +\n",
    "    'Users/' +\n",
    "    'Abdul Zakkar/' +\n",
    "    'Documents/' +\n",
    "    'UICOM/' +\n",
    "    'research/' +\n",
    "    'salahudeen/' +\n",
    "    'test_train_sets/' +\n",
    "    'train/' +\n",
    "    'train_nlst_svm7sybil.csv'\n",
    ")\n",
    "\n",
    "TEST_FILE_UIC = (\n",
    "    'C:/' +\n",
    "    'Users/' +\n",
    "    'Abdul Zakkar/' +\n",
    "    'Documents/' +\n",
    "    'UICOM/' +\n",
    "    'research/' +\n",
    "    'salahudeen/' +\n",
    "    'test_train_sets/' +\n",
    "    'test/' +\n",
    "    'test_uic_svm7sybil.csv'\n",
    ")\n",
    "\n",
    "TEST_FILE_UIC_WHITE = (\n",
    "    'C:/' +\n",
    "    'Users/' +\n",
    "    'Abdul Zakkar/' +\n",
    "    'Documents/' +\n",
    "    'UICOM/' +\n",
    "    'research/' +\n",
    "    'salahudeen/' +\n",
    "    'test_train_sets/' +\n",
    "    'test/' +\n",
    "    'test_uic_svm7sybil_white.csv'\n",
    ")\n",
    "\n",
    "TEST_FILE_UIC_BLACK = (\n",
    "    'C:/' +\n",
    "    'Users/' +\n",
    "    'Abdul Zakkar/' +\n",
    "    'Documents/' +\n",
    "    'UICOM/' +\n",
    "    'research/' +\n",
    "    'salahudeen/' +\n",
    "    'test_train_sets/' +\n",
    "    'test/' +\n",
    "    'test_uic_svm7sybil_black.csv'\n",
    ")\n",
    "\n",
    "RANDOM_STATE = 100"
   ]
  },
  {
   "cell_type": "code",
   "execution_count": 130,
   "metadata": {},
   "outputs": [
    {
     "name": "stdout",
     "output_type": "stream",
     "text": [
      "df_train_nlst.shape (65161, 19)\n",
      "df_test_uic.shape (4092, 19)\n",
      "df_test_uic_white.shape (960, 19)\n",
      "df_test_uic_black.shape (2877, 19)\n"
     ]
    }
   ],
   "source": [
    "df_train_nlst = pd.read_csv(TRAIN_FILE_NLST)\n",
    "# df_train_nlst_canc = df_train_nlst[df_train_nlst['canc_yr_1'] == 1]\n",
    "# frac_canc = df_train_nlst_canc.shape[0] / df_train_nlst.shape[0]\n",
    "# print('frac_canc year 1', frac_canc)\n",
    "# df_train_nlst_no_canc = df_train_nlst[df_train_nlst['canc_yr_1'] == 0]\n",
    "# df_train_nlst_no_canc = df_train_nlst_no_canc.sample(frac=0.05 - frac_canc, random_state=RANDOM_STATE)\n",
    "# df_train_nlst = pd.concat([df_train_nlst_canc, df_train_nlst_no_canc])\n",
    "\n",
    "df_test_uic = pd.read_csv(TEST_FILE_UIC)\n",
    "df_test_uic_white = pd.read_csv(TEST_FILE_UIC_WHITE)\n",
    "df_test_uic_black = pd.read_csv(TEST_FILE_UIC_BLACK)\n",
    "\n",
    "print('df_train_nlst.shape', df_train_nlst.shape)\n",
    "print('df_test_uic.shape', df_test_uic.shape)\n",
    "print('df_test_uic_white.shape', df_test_uic_white.shape)\n",
    "print('df_test_uic_black.shape', df_test_uic_black.shape)"
   ]
  },
  {
   "cell_type": "code",
   "execution_count": 131,
   "metadata": {},
   "outputs": [
    {
     "name": "stdout",
     "output_type": "stream",
     "text": [
      "df_train_uic.shape (1227, 19)\n",
      "df_test_uic.shape (2865, 19)\n"
     ]
    }
   ],
   "source": [
    "df_train_uic, df_test_uic = train_test_split(df_test_uic, train_size=0.3, random_state=RANDOM_STATE)\n",
    "\n",
    "print('df_train_uic.shape', df_train_uic.shape)\n",
    "print('df_test_uic.shape', df_test_uic.shape)"
   ]
  },
  {
   "cell_type": "code",
   "execution_count": 132,
   "metadata": {},
   "outputs": [
    {
     "name": "stdout",
     "output_type": "stream",
     "text": [
      "df_test_uic_white.shape (680, 19)\n",
      "df_test_uic_black.shape (1999, 19)\n"
     ]
    }
   ],
   "source": [
    "common_rows_white = df_test_uic.isin(df_test_uic_white.to_dict(orient='list')).all(axis=1)\n",
    "df_test_uic_white = df_test_uic[common_rows_white]\n",
    "\n",
    "common_rows_black = df_test_uic.isin(df_test_uic_black.to_dict(orient='list')).all(axis=1)\n",
    "df_test_uic_black = df_test_uic[common_rows_black]\n",
    "\n",
    "print('df_test_uic_white.shape', df_test_uic_white.shape)\n",
    "print('df_test_uic_black.shape', df_test_uic_black.shape)"
   ]
  },
  {
   "cell_type": "code",
   "execution_count": 133,
   "metadata": {},
   "outputs": [
    {
     "name": "stdout",
     "output_type": "stream",
     "text": [
      "df_train.shape (66388, 19)\n"
     ]
    }
   ],
   "source": [
    "df_train = pd.concat([df_train_nlst, df_train_uic])\n",
    "\n",
    "print('df_train.shape', df_train.shape)"
   ]
  },
  {
   "cell_type": "markdown",
   "metadata": {},
   "source": [
    "# Save"
   ]
  },
  {
   "cell_type": "code",
   "execution_count": 134,
   "metadata": {},
   "outputs": [],
   "source": [
    "TRAIN_FILE_NLST_UIC = (\n",
    "    'C:/' +\n",
    "    'Users/' +\n",
    "    'Abdul Zakkar/' +\n",
    "    'Documents/' +\n",
    "    'UICOM/' +\n",
    "    'research/' +\n",
    "    'salahudeen/' +\n",
    "    'test_train_sets/' +\n",
    "    'train/' +\n",
    "    'train_nlst_30_uic_30_svm7sybil.csv'\n",
    ")\n",
    "\n",
    "TEST_FILE_UIC_70 = (\n",
    "    'C:/' +\n",
    "    'Users/' +\n",
    "    'Abdul Zakkar/' +\n",
    "    'Documents/' +\n",
    "    'UICOM/' +\n",
    "    'research/' +\n",
    "    'salahudeen/' +\n",
    "    'test_train_sets/' +\n",
    "    'test/' +\n",
    "    'test_uic_70_svm7sybil.csv'\n",
    ")\n",
    "\n",
    "TEST_FILE_UIC_70_WHITE = (\n",
    "    'C:/' +\n",
    "    'Users/' +\n",
    "    'Abdul Zakkar/' +\n",
    "    'Documents/' +\n",
    "    'UICOM/' +\n",
    "    'research/' +\n",
    "    'salahudeen/' +\n",
    "    'test_train_sets/' +\n",
    "    'test/' +\n",
    "    'test_uic_70_svm7sybil_white.csv'\n",
    ")\n",
    "\n",
    "TEST_FILE_UIC_70_BLACK = (\n",
    "    'C:/' +\n",
    "    'Users/' +\n",
    "    'Abdul Zakkar/' +\n",
    "    'Documents/' +\n",
    "    'UICOM/' +\n",
    "    'research/' +\n",
    "    'salahudeen/' +\n",
    "    'test_train_sets/' +\n",
    "    'test/' +\n",
    "    'test_uic_70_svm7sybil_black.csv'\n",
    ")"
   ]
  },
  {
   "cell_type": "code",
   "execution_count": 135,
   "metadata": {},
   "outputs": [],
   "source": [
    "df_train.to_csv(TRAIN_FILE_NLST_UIC, index=False)\n",
    "df_test_uic.to_csv(TEST_FILE_UIC_70, index=False)\n",
    "\n",
    "df_test_uic_white.to_csv(TEST_FILE_UIC_70_WHITE, index=False)\n",
    "df_test_uic_black.to_csv(TEST_FILE_UIC_70_BLACK, index=False)"
   ]
  }
 ],
 "metadata": {
  "kernelspec": {
   "display_name": "Python 3",
   "language": "python",
   "name": "python3"
  },
  "language_info": {
   "codemirror_mode": {
    "name": "ipython",
    "version": 3
   },
   "file_extension": ".py",
   "mimetype": "text/x-python",
   "name": "python",
   "nbconvert_exporter": "python",
   "pygments_lexer": "ipython3",
   "version": "3.11.0"
  }
 },
 "nbformat": 4,
 "nbformat_minor": 2
}
